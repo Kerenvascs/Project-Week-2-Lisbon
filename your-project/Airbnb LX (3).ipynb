{
 "cells": [
  {
   "cell_type": "code",
   "execution_count": null,
   "metadata": {},
   "outputs": [],
   "source": [
    "#importing necessary libraries \n",
    "\n",
    "import pandas as pd  \n",
    "import numpy as np"
   ]
  },
  {
   "cell_type": "markdown",
   "metadata": {},
   "source": [
    "# Dataset -> Listings detailed"
   ]
  },
  {
   "cell_type": "code",
   "execution_count": null,
   "metadata": {},
   "outputs": [],
   "source": [
    "listings_detailed = pd.read_csv('listings2.csv', low_memory=False)\n",
    "listings_detailed.head()"
   ]
  },
  {
   "cell_type": "code",
   "execution_count": null,
   "metadata": {},
   "outputs": [],
   "source": [
    "listings_detailed.shape"
   ]
  },
  {
   "cell_type": "code",
   "execution_count": null,
   "metadata": {},
   "outputs": [],
   "source": [
    "len(listings_detailed.columns.tolist())"
   ]
  },
  {
   "cell_type": "code",
   "execution_count": null,
   "metadata": {},
   "outputs": [],
   "source": [
    "print(listings_detailed.columns.tolist())"
   ]
  },
  {
   "cell_type": "code",
   "execution_count": null,
   "metadata": {},
   "outputs": [],
   "source": [
    "#let's remove columns we think won't be useful\n",
    "low_variance = []\n",
    "\n",
    "for col in listings_detailed._get_numeric_data():\n",
    "    minimum = min(listings_detailed[col])\n",
    "    ninety_perc = np.percentile(listings_detailed[col], 90)\n",
    "    if ninety_perc == minimum:\n",
    "        low_variance.append(col)\n",
    "\n",
    "print(low_variance)\n"
   ]
  },
  {
   "cell_type": "code",
   "execution_count": null,
   "metadata": {},
   "outputs": [],
   "source": [
    "#host_acceptance_rate: All column values are N/A\n",
    "#country_code and country (All PT)\n",
    "#business travel ready is all F\n",
    "#requires licence \n",
    "#availability_30,60, etc.... -> availability for the future\n",
    "#neighbourhood_cleansed too detailed\n",
    "#scores ratings other than 'review_scores_rating' left since the latest is a weighted average\n",
    "#'cleaning_fee' included in price\n",
    "#licence doesnt tell anything about the listing or neighbour since it lisbon is mandatory to have licence \n",
    "'''\n",
    "'instant_bookable',\n",
    " 'cancellation_policy',\n",
    " 'require_guest_profile_picture',\n",
    " 'require_guest_phone_verification',\n",
    "\n",
    "to buld a flexiblity scale\n",
    "\n",
    "'''\n",
    "\n",
    "columns_to_remove = ['neighbourhood',\"scrape_id\",'listing_url',\"last_scraped\",\"experiences_offered\",\"notes\",\"transit\",\"access\",\"interaction\",'number_of_reviews_ltm',\n",
    "                     \"thumbnail_url\",\"house_rules\",\"medium_url\",\"picture_url\",\"xl_picture_url\",\"host_name\",\"host_about\",\n",
    "                     \"host_acceptance_rate\",\"host_url\",\"host_thumbnail_url\",\"host_picture_url\",\"host_neighbourhood\",\"host_verifications\",\n",
    "                     \"state\",\"market\",\"smart_location\",\"country\",'country_code',\"minimum_minimum_nights\",\"maximum_minimum_nights\",\n",
    "                     \"minimum_maximum_nights\",'maximum_maximum_nights',\"minimum_nights_avg_ntm\",\"maximum_nights_avg_ntm\",\"calendar_last_scraped\",\n",
    "                     \"jurisdiction_names\", \"street\", \"calendar_updated\", \"has_availability\", \"is_location_exact\", \"city\", \"zipcode\", \n",
    "                     \"is_business_travel_ready\", \"weekly_price\", \"monthly_price\",'maximum_nights', 'availability_30',\n",
    "                     'availability_60','availability_90','availability_365','square_feet', 'latitude','longitude',\n",
    "                     \"host_id\",\"host_since\", \"host_location\", \"host_response_time\",'host_response_rate','host_listings_count',\n",
    "                     'host_total_listings_count','host_has_profile_pic','host_identity_verified','summary','space',\n",
    "                     'review_scores_accuracy','review_scores_cleanliness','review_scores_checkin','review_scores_communication',\n",
    "                     'review_scores_location','review_scores_value', 'cleaning_fee', 'security_deposit','extra_people',\n",
    "                     'requires_license','license', 'calculated_host_listings_count_entire_homes','calculated_host_listings_count_private_rooms',\n",
    "                     'calculated_host_listings_count_shared_rooms']\n",
    "\n",
    "data = listings_detailed.drop(columns_to_remove, axis =1)"
   ]
  },
  {
   "cell_type": "markdown",
   "metadata": {},
   "source": [
    "# Final Columns"
   ]
  },
  {
   "cell_type": "code",
   "execution_count": null,
   "metadata": {},
   "outputs": [],
   "source": [
    "print(data.columns.tolist())"
   ]
  },
  {
   "cell_type": "code",
   "execution_count": null,
   "metadata": {},
   "outputs": [],
   "source": [
    "#We can use the info() method to output some general information about the dataframe:\n",
    "\n",
    "len(data.columns.tolist())"
   ]
  },
  {
   "cell_type": "code",
   "execution_count": null,
   "metadata": {},
   "outputs": [],
   "source": [
    "print(data.info())"
   ]
  },
  {
   "cell_type": "code",
   "execution_count": null,
   "metadata": {},
   "outputs": [],
   "source": [
    "data.describe()"
   ]
  },
  {
   "cell_type": "code",
   "execution_count": null,
   "metadata": {},
   "outputs": [],
   "source": [
    "### MISSING VALUES ###\n",
    "\n",
    "null_cols = data.isnull().sum()\n",
    "null_cols[null_cols > 0]"
   ]
  },
  {
   "cell_type": "code",
   "execution_count": null,
   "metadata": {},
   "outputs": [],
   "source": [
    "#makes sense that last review and reviews per month \n",
    "#have missing values when number_of_reviews=0. Let's check that:\n",
    "\n",
    "null_review = data[(data['last_review'].isnull()==True)| (data['reviews_per_month'].isnull()==True)]\n",
    "null_review['number_of_reviews']\n",
    "\n",
    "#What to do with the missing values?\n",
    "#We can see that last_review reviews_per_month is null when number of reviews zero, \n",
    "#which makes total sense! Therefore it makes sense to replace the null values with zeros"
   ]
  },
  {
   "cell_type": "code",
   "execution_count": null,
   "metadata": {},
   "outputs": [],
   "source": [
    "data['neighbourhood_group_cleansed'].unique() "
   ]
  },
  {
   "cell_type": "markdown",
   "metadata": {},
   "source": [
    "# Lisbon city only"
   ]
  },
  {
   "cell_type": "code",
   "execution_count": null,
   "metadata": {},
   "outputs": [],
   "source": [
    "#####  WE WANT TO ANALYSE DATA IN LISBON ONLY!! #######\n",
    "data = data[(data['neighbourhood_group_cleansed']=='Lisboa')]\n",
    "\n",
    "data.head()"
   ]
  },
  {
   "cell_type": "code",
   "execution_count": null,
   "metadata": {},
   "outputs": [],
   "source": [
    "data.shape"
   ]
  },
  {
   "cell_type": "code",
   "execution_count": null,
   "metadata": {},
   "outputs": [],
   "source": [
    "#the below listings don't have enough information for our quality analysis \n",
    "null_displ = data[(data['last_review'].isnull()==True)|(data['first_review'].isnull()==True)]\n",
    "null_displ['review_scores_rating']\n"
   ]
  },
  {
   "cell_type": "code",
   "execution_count": null,
   "metadata": {},
   "outputs": [],
   "source": [
    "data = data.dropna(subset=['last_review','first_review'])\n",
    "data"
   ]
  },
  {
   "cell_type": "code",
   "execution_count": null,
   "metadata": {},
   "outputs": [],
   "source": [
    "data.shape"
   ]
  },
  {
   "cell_type": "code",
   "execution_count": null,
   "metadata": {},
   "outputs": [],
   "source": [
    "data['review_scores_rating']"
   ]
  },
  {
   "cell_type": "code",
   "execution_count": null,
   "metadata": {},
   "outputs": [],
   "source": [
    "#let's check datatypes\n",
    "data.dtypes"
   ]
  },
  {
   "cell_type": "code",
   "execution_count": null,
   "metadata": {},
   "outputs": [],
   "source": [
    "data['price']"
   ]
  },
  {
   "cell_type": "code",
   "execution_count": null,
   "metadata": {},
   "outputs": [],
   "source": [
    "#let's change price type from object to float\n",
    "# but first we neeed to remove special characters --> $ symbol\n",
    "data['price'] = data['price'].str.replace('$', '')\n",
    "data['price'] = data['price'].str.replace(',', '')\n",
    "\n",
    "data['price'] = data.price.astype(float)\n",
    "\n",
    "data['price'].dtypes #sucess! "
   ]
  },
  {
   "cell_type": "code",
   "execution_count": null,
   "metadata": {},
   "outputs": [],
   "source": [
    "#also it does not make sense to have data points with price zero\n",
    "price_zero = data[(data['price']==0)]\n",
    "price_zero"
   ]
  },
  {
   "cell_type": "code",
   "execution_count": null,
   "metadata": {},
   "outputs": [],
   "source": [
    "## remove those rows\n",
    "\n",
    "data = data.drop([11174,11201,11202,11323,11375], axis=0)"
   ]
  },
  {
   "cell_type": "code",
   "execution_count": null,
   "metadata": {},
   "outputs": [],
   "source": [
    "price_zero = data[(data['price']==0)]\n",
    "price_zero"
   ]
  },
  {
   "cell_type": "code",
   "execution_count": null,
   "metadata": {},
   "outputs": [],
   "source": [
    "#convert fist and last review into data type data format\n",
    "\n",
    "data['last_review'] = pd.to_datetime(data['last_review'])\n",
    "data['first_review'] = pd.to_datetime(data['first_review'])"
   ]
  },
  {
   "cell_type": "code",
   "execution_count": null,
   "metadata": {},
   "outputs": [],
   "source": [
    "# listing_duration = (last_review - first_review) -> value to be evaluated in days\n",
    "\n",
    "data.insert(21, \"listing_duration\", data['last_review'] - data[\"first_review\"], True)"
   ]
  },
  {
   "cell_type": "code",
   "execution_count": null,
   "metadata": {},
   "outputs": [],
   "source": [
    "data['listing_duration'].unique() "
   ]
  },
  {
   "cell_type": "code",
   "execution_count": null,
   "metadata": {},
   "outputs": [],
   "source": [
    "#transform into days\n",
    "data[\"listing_duration\"]=  (data['last_review'] - data[\"first_review\"]).dt.days\n",
    "data['listing_duration'].unique() "
   ]
  },
  {
   "cell_type": "code",
   "execution_count": null,
   "metadata": {
    "scrolled": false
   },
   "outputs": [],
   "source": [
    "data.dtypes"
   ]
  },
  {
   "cell_type": "code",
   "execution_count": null,
   "metadata": {},
   "outputs": [],
   "source": []
  },
  {
   "cell_type": "markdown",
   "metadata": {},
   "source": [
    "# TO DO:"
   ]
  },
  {
   "cell_type": "code",
   "execution_count": null,
   "metadata": {},
   "outputs": [],
   "source": [
    "\"\"\"\n",
    "We'll use 'instant_bookable', 'cancellation_policy', 'require_guest_profile_picture' and 'require_guest_phone_verification'\n",
    "to a create a single varible where we can analyse the flexibility of the listing. \n",
    "\"\"\"\n",
    "\n",
    "data['cancellation_policy'].unique() "
   ]
  },
  {
   "cell_type": "code",
   "execution_count": null,
   "metadata": {},
   "outputs": [],
   "source": []
  },
  {
   "cell_type": "code",
   "execution_count": null,
   "metadata": {},
   "outputs": [],
   "source": []
  },
  {
   "cell_type": "code",
   "execution_count": null,
   "metadata": {},
   "outputs": [],
   "source": [
    "#rename columns \n",
    "data = data.rename(columns={'neighbourhood_cleansed':'neighbourhood',\n",
    "                            'neighbourhood_group_cleansed':'city'})"
   ]
  },
  {
   "cell_type": "code",
   "execution_count": null,
   "metadata": {},
   "outputs": [],
   "source": [
    "print(data.columns.tolist())"
   ]
  },
  {
   "cell_type": "code",
   "execution_count": null,
   "metadata": {},
   "outputs": [],
   "source": [
    "## order columns \n",
    "\n",
    "column_order = ['id', 'name', 'city','neighbourhood', 'price','description', 'neighborhood_overview',   \n",
    "                'property_type', 'room_type', 'accommodates', 'bathrooms', 'bedrooms', 'beds', 'bed_type', \n",
    "                'amenities',  'guests_included', 'minimum_nights', 'number_of_reviews', 'first_review', 'last_review',\n",
    "                'listing_duration', 'review_scores_rating', 'host_is_superhost','instant_bookable', 'cancellation_policy', \n",
    "                'require_guest_profile_picture', 'require_guest_phone_verification', 'calculated_host_listings_count', \n",
    "                'reviews_per_month']\n",
    "\n",
    "data = data[column_order]\n",
    "data.head()"
   ]
  },
  {
   "cell_type": "code",
   "execution_count": null,
   "metadata": {},
   "outputs": [],
   "source": [
    "#create a flexibility variable with 'require_guest_profile_picture', 'require_guest_phone_verification','instant_bookable'\n",
    "\n",
    "### labels = ['Low Flexibility', 'Moderate', 'High Flexibility']\n"
   ]
  },
  {
   "cell_type": "markdown",
   "metadata": {},
   "source": [
    "# A Neighborhood Analysis "
   ]
  },
  {
   "cell_type": "code",
   "execution_count": null,
   "metadata": {},
   "outputs": [],
   "source": [
    "data['neighbourhood'].unique() "
   ]
  },
  {
   "cell_type": "code",
   "execution_count": null,
   "metadata": {},
   "outputs": [],
   "source": [
    "data.groupby(['neighbourhood'])"
   ]
  },
  {
   "cell_type": "code",
   "execution_count": null,
   "metadata": {},
   "outputs": [],
   "source": [
    "#### PRICE ANALYSIS ####\n",
    "neighbourhood_price = data.groupby(['neighbourhood'])['price'].describe().reset_index()\n",
    "neighbourhood_price.head()\n",
    "neighbourhood_price.columns\n",
    "neighbourhood_price.sort_values(['std'], ascending = False)\n",
    "# Média mais barata é Beato\n",
    "# Média mais cara é Parque das Nações\n",
    "# Maior variação de preços em Marvila, Lumiar, Santa Maria Maior, Santa Clara e Arroios"
   ]
  },
  {
   "cell_type": "code",
   "execution_count": null,
   "metadata": {},
   "outputs": [],
   "source": [
    "# what neighbourhoods have oldest listings --> this can provide insight on the most habitual touristic areas\n",
    "neighbourhood_duration = data.groupby(['neighbourhood'])['listing_duration'].describe()\n",
    "neighbourhood_duration.sort_values(by=['max'], ascending=False)\n",
    "# Traditional Airbnb Neighbourhoods = Avenidas Novas, Misericordia, Estrela, São Vicente e Santa Maria Maior\n",
    "# disponíveis há mais de 9 anos"
   ]
  },
  {
   "cell_type": "code",
   "execution_count": null,
   "metadata": {},
   "outputs": [],
   "source": [
    "## which neighbourhoods have best ratings from costumers???\n",
    "neighbourhood_reviews = data.groupby(['neighbourhood'])['review_scores_rating'].describe()\n",
    "neighbourhood_reviews.sort_values(by=['mean'], ascending = False)"
   ]
  },
  {
   "cell_type": "code",
   "execution_count": null,
   "metadata": {},
   "outputs": [],
   "source": [
    "## If i want to come to lisbon of a short weekend which neighbourhood would be easier? (e.g. would have less min nights)\n",
    "\n",
    "neighbourhood_minimum_nights = data.groupby(['neighbourhood'])['minimum_nights'].describe()\n",
    "neighbourhood_minimum_nights.sort_values(by=['mean'], ascending = True)"
   ]
  },
  {
   "cell_type": "code",
   "execution_count": null,
   "metadata": {},
   "outputs": [],
   "source": [
    "data['price'].describe()"
   ]
  },
  {
   "cell_type": "code",
   "execution_count": null,
   "metadata": {},
   "outputs": [],
   "source": [
    "#### VALUE FOR MONEY #######\n",
    "\n",
    "# value_money = review_scores_rating/price\n",
    "\n",
    "data.insert(5, \"value_money\", data[\"review_scores_rating\"]/data['price'], True)"
   ]
  },
  {
   "cell_type": "code",
   "execution_count": null,
   "metadata": {},
   "outputs": [],
   "source": [
    "\n",
    "neighbourhood_value_money = data.groupby(['neighbourhood'])['value_money'].describe()\n",
    "neighbourhood_value_money.sort_values(by=['mean'], ascending=False)"
   ]
  },
  {
   "cell_type": "markdown",
   "metadata": {},
   "source": [
    "Santa Clara seems to be the most value for money"
   ]
  },
  {
   "cell_type": "code",
   "execution_count": null,
   "metadata": {},
   "outputs": [],
   "source": [
    "# Room Type|Price\n",
    "room_price = data.groupby(['room_type'])['price'].describe().reset_index()\n",
    "room_price.sort_values(by=['mean'])"
   ]
  },
  {
   "cell_type": "code",
   "execution_count": null,
   "metadata": {},
   "outputs": [],
   "source": [
    "# Group by neighbourhood and type of place\n",
    "neighbourhood_rooms = data.groupby(['room_type','neighbourhood'])['price'].agg(['mean', 'median'])\n",
    "neighbourhood_rooms\n",
    "neighbourhood_rooms.sort_values(by=['room_type','mean'], ascending= True)"
   ]
  },
  {
   "cell_type": "code",
   "execution_count": null,
   "metadata": {},
   "outputs": [],
   "source": [
    "### FLEXIBILITY ###\n",
    "data.columns\n",
    "flexibility = data.groupby(['cancellation_policy','neighbourhood'])['price'].agg(['mean', 'median'])\n",
    "flexibility\n",
    "flexibility.sort_values(by=['cancellation_policy','mean'], ascending= True)\n"
   ]
  },
  {
   "cell_type": "code",
   "execution_count": null,
   "metadata": {},
   "outputs": [],
   "source": [
    "\n",
    "############### Wich is the best neighbouhood for each persona ########################\n",
    "# Business: high flex, intermediate comfort, intermediate price\n",
    "#Backpecker: high flex, low comfy, low price\n",
    "#Family:low flex, high comfy,inter to high price, high score rating\n",
    "\n",
    "# Filtrar aps para personas\n",
    "# 'instant_bookable' == False\n",
    "# 'cancellation_policy' != flexible\n",
    "# 'require_guest_profile_picture' = True\n",
    "# 'require_guest_phone_verification' = True\n",
    "\n",
    "\n",
    "# condition = data(['instant_bookable'] == False)\n",
    "# condition2 = data(['cancellation_policy'] != 'flexible')\n",
    "\n",
    "\n"
   ]
  },
  {
   "cell_type": "code",
   "execution_count": null,
   "metadata": {},
   "outputs": [],
   "source": [
    "# dropar rows contrarios, aos flexiveis aplicar filtro do preço ?"
   ]
  },
  {
   "cell_type": "code",
   "execution_count": null,
   "metadata": {},
   "outputs": [],
   "source": [
    "# Categorize neighbourhoods by price\n",
    "# Cheap, Intermediate, Expensive, Very Expensive"
   ]
  },
  {
   "cell_type": "code",
   "execution_count": null,
   "metadata": {},
   "outputs": [],
   "source": []
  }
 ],
 "metadata": {
  "kernelspec": {
   "display_name": "Python 3",
   "language": "python",
   "name": "python3"
  },
  "language_info": {
   "codemirror_mode": {
    "name": "ipython",
    "version": 3
   },
   "file_extension": ".py",
   "mimetype": "text/x-python",
   "name": "python",
   "nbconvert_exporter": "python",
   "pygments_lexer": "ipython3",
   "version": "3.7.3"
  }
 },
 "nbformat": 4,
 "nbformat_minor": 2
}
