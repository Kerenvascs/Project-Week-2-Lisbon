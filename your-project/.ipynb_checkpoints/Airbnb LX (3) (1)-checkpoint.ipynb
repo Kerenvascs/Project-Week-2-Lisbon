{
 "cells": [
  {
   "cell_type": "code",
   "execution_count": null,
   "metadata": {},
   "outputs": [],
   "source": [
    "#importing necessary libraries \n",
    "\n",
    "import pandas as pd  \n",
    "import numpy as np"
   ]
  },
  {
   "cell_type": "markdown",
   "metadata": {},
   "source": [
    "# Dataset -> Listings detailed"
   ]
  },
  {
   "cell_type": "code",
   "execution_count": null,
   "metadata": {},
   "outputs": [],
   "source": [
    "listings_detailed = pd.read_csv('listings2.csv', low_memory=False)\n",
    "listings_detailed.head()"
   ]
  },
  {
   "cell_type": "code",
   "execution_count": null,
   "metadata": {},
   "outputs": [],
   "source": [
    "listings_detailed.shape"
   ]
  },
  {
   "cell_type": "code",
   "execution_count": null,
   "metadata": {},
   "outputs": [],
   "source": [
    "len(listings_detailed.columns.tolist())"
   ]
  },
  {
   "cell_type": "code",
   "execution_count": null,
   "metadata": {},
   "outputs": [],
   "source": [
    "print(listings_detailed.columns.tolist())"
   ]
  },
  {
   "cell_type": "code",
   "execution_count": null,
   "metadata": {},
   "outputs": [],
   "source": [
    "#let's remove columns we think won't be useful\n",
    "low_variance = []\n",
    "\n",
    "for col in listings_detailed._get_numeric_data():\n",
    "    minimum = min(listings_detailed[col])\n",
    "    ninety_perc = np.percentile(listings_detailed[col], 90)\n",
    "    if ninety_perc == minimum:\n",
    "        low_variance.append(col)\n",
    "\n",
    "print(low_variance)\n"
   ]
  },
  {
   "cell_type": "code",
   "execution_count": null,
   "metadata": {},
   "outputs": [],
   "source": [
    "#host_acceptance_rate: All column values are N/A\n",
    "#country_code and country (All PT)\n",
    "#business travel ready is all F\n",
    "#requires licence \n",
    "#availability_30,60, etc.... -> availability for the future\n",
    "#neighbourhood_cleansed too detailed\n",
    "#scores ratings other than 'review_scores_rating' left since the latest is a weighted average\n",
    "#'cleaning_fee' included in price\n",
    "#licence doesnt tell anything about the listing or neighbour since it lisbon is mandatory to have licence \n",
    "'''\n",
    "'instant_bookable',\n",
    " 'cancellation_policy',\n",
    " 'require_guest_profile_picture',\n",
    " 'require_guest_phone_verification',\n",
    "\n",
    "to buld a flexiblity scale\n",
    "\n",
    "'''\n",
    "\n",
    "columns_to_remove = ['neighbourhood',\"scrape_id\",'listing_url',\"last_scraped\",\"experiences_offered\",\"notes\",\"transit\",\"access\",\"interaction\",'number_of_reviews_ltm',\n",
    "                     \"thumbnail_url\",\"house_rules\",\"medium_url\",\"picture_url\",\"xl_picture_url\",\"host_name\",\"host_about\",\n",
    "                     \"host_acceptance_rate\",\"host_url\",\"host_thumbnail_url\",\"host_picture_url\",\"host_neighbourhood\",\"host_verifications\",\n",
    "                     \"state\",\"market\",\"smart_location\",\"country\",'country_code',\"minimum_minimum_nights\",\"maximum_minimum_nights\",\n",
    "                     \"minimum_maximum_nights\",'maximum_maximum_nights',\"minimum_nights_avg_ntm\",\"maximum_nights_avg_ntm\",\"calendar_last_scraped\",\n",
    "                     \"jurisdiction_names\", \"street\", \"calendar_updated\", \"has_availability\", \"is_location_exact\", \"city\", \"zipcode\", \n",
    "                     \"is_business_travel_ready\", \"weekly_price\", \"monthly_price\",'maximum_nights', 'availability_30',\n",
    "                     'availability_60','availability_90','availability_365','square_feet', 'latitude','longitude',\n",
    "                     \"host_id\",\"host_since\", \"host_location\", \"host_response_time\",'host_response_rate','host_listings_count',\n",
    "                     'host_total_listings_count','host_has_profile_pic','host_identity_verified','summary','space',\n",
    "                     'review_scores_accuracy','review_scores_cleanliness','review_scores_checkin','review_scores_communication',\n",
    "                     'review_scores_location','review_scores_value', 'cleaning_fee', 'security_deposit','extra_people',\n",
    "                     'requires_license','license', 'calculated_host_listings_count_entire_homes','calculated_host_listings_count_private_rooms',\n",
    "                     'calculated_host_listings_count_shared_rooms']\n",
    "\n",
    "data = listings_detailed.drop(columns_to_remove, axis =1)"
   ]
  },
  {
   "cell_type": "markdown",
   "metadata": {},
   "source": [
    "# Final Columns"
   ]
  },
  {
   "cell_type": "code",
   "execution_count": null,
   "metadata": {},
   "outputs": [],
   "source": [
    "print(data.columns.tolist())"
   ]
  },
  {
   "cell_type": "code",
   "execution_count": null,
   "metadata": {},
   "outputs": [],
   "source": [
    "#We can use the info() method to output some general information about the dataframe:\n",
    "\n",
    "len(data.columns.tolist())"
   ]
  },
  {
   "cell_type": "code",
   "execution_count": null,
   "metadata": {},
   "outputs": [],
   "source": [
    "print(data.info())"
   ]
  },
  {
   "cell_type": "code",
   "execution_count": null,
   "metadata": {},
   "outputs": [],
   "source": [
    "data.describe()"
   ]
  },
  {
   "cell_type": "code",
   "execution_count": null,
   "metadata": {},
   "outputs": [],
   "source": [
    "### MISSING VALUES ###\n",
    "\n",
    "null_cols = data.isnull().sum()\n",
    "null_cols[null_cols > 0]"
   ]
  },
  {
   "cell_type": "code",
   "execution_count": null,
   "metadata": {},
   "outputs": [],
   "source": [
    "#makes sense that last review and reviews per month \n",
    "#have missing values when number_of_reviews=0. Let's check that:\n",
    "\n",
    "null_review = data[(data['last_review'].isnull()==True)| (data['reviews_per_month'].isnull()==True)]\n",
    "null_review['number_of_reviews']\n",
    "\n",
    "#What to do with the missing values?\n",
    "#We can see that last_review reviews_per_month is null when number of reviews zero, \n",
    "#which makes total sense! Therefore it makes sense to replace the null values with zeros"
   ]
  },
  {
   "cell_type": "code",
   "execution_count": null,
   "metadata": {},
   "outputs": [],
   "source": [
    "data['neighbourhood_group_cleansed'].unique() "
   ]
  },
  {
   "cell_type": "markdown",
   "metadata": {},
   "source": [
    "# Lisbon city\n"
   ]
  },
  {
   "cell_type": "code",
   "execution_count": null,
   "metadata": {},
   "outputs": [],
   "source": [
    "#####  WE WANT TO ANALYSE DATA IN LISBON ONLY!! #######\n",
    "data = data[(data['neighbourhood_group_cleansed']=='Lisboa')]\n",
    "\n",
    "data.head()"
   ]
  },
  {
   "cell_type": "code",
   "execution_count": null,
   "metadata": {},
   "outputs": [],
   "source": [
    "#let's check the dataset shape\n",
    "\n",
    "data.shape"
   ]
  },
  {
   "cell_type": "markdown",
   "metadata": {},
   "source": [
    "#### Listings with no reviews"
   ]
  },
  {
   "cell_type": "code",
   "execution_count": null,
   "metadata": {},
   "outputs": [],
   "source": [
    "#we have decided to exclude listings with no first nor last review \n",
    "#the below listings don't have enough information for our quality analysis \n",
    "\n",
    "null_displ = data[(data['last_review'].isnull()==True)|(data['first_review'].isnull()==True)]\n",
    "null_displ['review_scores_rating']\n"
   ]
  },
  {
   "cell_type": "code",
   "execution_count": null,
   "metadata": {},
   "outputs": [],
   "source": [
    "data = data.dropna(subset=['last_review','first_review'])\n",
    "data.head()"
   ]
  },
  {
   "cell_type": "code",
   "execution_count": null,
   "metadata": {},
   "outputs": [],
   "source": [
    "data.shape"
   ]
  },
  {
   "cell_type": "code",
   "execution_count": null,
   "metadata": {},
   "outputs": [],
   "source": [
    "data['review_scores_rating']"
   ]
  },
  {
   "cell_type": "markdown",
   "metadata": {},
   "source": [
    "### Final data cleaning"
   ]
  },
  {
   "cell_type": "code",
   "execution_count": null,
   "metadata": {},
   "outputs": [],
   "source": [
    "#let's check datatypes\n",
    "data.dtypes"
   ]
  },
  {
   "cell_type": "code",
   "execution_count": null,
   "metadata": {},
   "outputs": [],
   "source": [
    "data['price']"
   ]
  },
  {
   "cell_type": "code",
   "execution_count": null,
   "metadata": {},
   "outputs": [],
   "source": [
    "#let's change price type from object to float\n",
    "# but first we neeed to remove special characters --> $ symbol\n",
    "data['price'] = data['price'].str.replace('$', '')\n",
    "data['price'] = data['price'].str.replace(',', '')\n",
    "\n",
    "data['price'] = data.price.astype(float)\n",
    "\n",
    "data['price'].dtypes #sucess! "
   ]
  },
  {
   "cell_type": "code",
   "execution_count": null,
   "metadata": {},
   "outputs": [],
   "source": [
    "#also it does not make sense to have data points with price zero\n",
    "price_zero = data[(data['price']==0)]\n",
    "price_zero"
   ]
  },
  {
   "cell_type": "code",
   "execution_count": null,
   "metadata": {},
   "outputs": [],
   "source": [
    "## remove those rows\n",
    "\n",
    "data = data.drop([11174,11201,11202,11323,11375], axis=0)"
   ]
  },
  {
   "cell_type": "code",
   "execution_count": null,
   "metadata": {},
   "outputs": [],
   "source": [
    "price_zero = data[(data['price']==0)]\n",
    "price_zero"
   ]
  },
  {
   "cell_type": "code",
   "execution_count": null,
   "metadata": {},
   "outputs": [],
   "source": [
    "#convert fist and last review into data type data format\n",
    "\n",
    "data['last_review'] = pd.to_datetime(data['last_review'])\n",
    "data['first_review'] = pd.to_datetime(data['first_review'])"
   ]
  },
  {
   "cell_type": "code",
   "execution_count": null,
   "metadata": {},
   "outputs": [],
   "source": [
    "#remove outliers from price \n",
    "data = data.drop([21642, 9172, 22572, 10845, 24314, 22929, 18812, 1181 ], axis=0)"
   ]
  },
  {
   "cell_type": "code",
   "execution_count": null,
   "metadata": {},
   "outputs": [],
   "source": [
    "# listing_duration = (last_review - first_review) -> value to be evaluated in days\n",
    "\n",
    "data.insert(21, \"listing_duration\", data['last_review'] - data[\"first_review\"], True)"
   ]
  },
  {
   "cell_type": "code",
   "execution_count": null,
   "metadata": {},
   "outputs": [],
   "source": [
    "data['listing_duration'].unique() "
   ]
  },
  {
   "cell_type": "code",
   "execution_count": null,
   "metadata": {},
   "outputs": [],
   "source": [
    "#transform into days\n",
    "\n",
    "data[\"listing_duration\"]=  (data['last_review'] - data[\"first_review\"]).dt.days\n",
    "data['listing_duration'].unique() "
   ]
  },
  {
   "cell_type": "code",
   "execution_count": null,
   "metadata": {
    "scrolled": false
   },
   "outputs": [],
   "source": [
    "data.dtypes"
   ]
  },
  {
   "cell_type": "code",
   "execution_count": null,
   "metadata": {},
   "outputs": [],
   "source": [
    "#renaming columns so that it's more intuitive \n",
    "data = data.rename(columns={'neighbourhood_cleansed':'neighbourhood',\n",
    "                            'neighbourhood_group_cleansed':'city'})"
   ]
  },
  {
   "cell_type": "code",
   "execution_count": null,
   "metadata": {},
   "outputs": [],
   "source": [
    "print(data.columns.tolist())"
   ]
  },
  {
   "cell_type": "code",
   "execution_count": null,
   "metadata": {},
   "outputs": [],
   "source": [
    "## order columns \n",
    "\n",
    "column_order = ['id', 'name', 'city','neighbourhood', 'price','description', 'neighborhood_overview',   \n",
    "                'property_type', 'room_type', 'accommodates', 'bathrooms', 'bedrooms', 'beds', 'bed_type', \n",
    "                'amenities',  'guests_included', 'minimum_nights', 'number_of_reviews', 'first_review', 'last_review',\n",
    "                'listing_duration', 'review_scores_rating', 'host_is_superhost','instant_bookable', 'cancellation_policy', \n",
    "                'require_guest_profile_picture', 'require_guest_phone_verification', 'calculated_host_listings_count', \n",
    "                'reviews_per_month']\n",
    "\n",
    "data = data[column_order]\n",
    "data.head()"
   ]
  },
  {
   "cell_type": "markdown",
   "metadata": {},
   "source": [
    "# A Neighborhood Analysis "
   ]
  },
  {
   "cell_type": "code",
   "execution_count": null,
   "metadata": {},
   "outputs": [],
   "source": [
    "data['neighbourhood'].unique() "
   ]
  },
  {
   "cell_type": "code",
   "execution_count": null,
   "metadata": {},
   "outputs": [],
   "source": [
    "#is this step necessary?\n",
    "\n",
    "test_df= data.groupby(['neighbourhood'])['neighbourhood'].count()\n",
    "test_df.sort_values(ascending= False)"
   ]
  },
  {
   "cell_type": "code",
   "execution_count": null,
   "metadata": {},
   "outputs": [],
   "source": [
    "#### PRICE ANALYSIS ####\n",
    "neighbourhood_price = data.groupby(['neighbourhood'])['price'].describe().reset_index()\n",
    "neighbourhood_price.head()\n",
    "neighbourhood_price.columns\n",
    "neighbourhood_price.sort_values(['mean'], ascending = False)\n",
    "\n",
    "# The neighbourhood with cheapest mean price listings is 'Beato' \n",
    "# The neighbourhood with the most expensive mean price  is 'Parque das Nações'\n",
    "# Highest price variation in Marvila, Lumiar, Santa Maria Maior, Santa Clara e Arroios"
   ]
  },
  {
   "cell_type": "code",
   "execution_count": null,
   "metadata": {},
   "outputs": [],
   "source": [
    "# what neighbourhoods have oldest listings --> this can provide insight on the most habitual touristic areas\n",
    "\n",
    "neighbourhood_duration = data.groupby(['neighbourhood'])['listing_duration'].describe()\n",
    "neighbourhood_duration.sort_values(by=['max'], ascending=False)\n",
    "\n",
    "# Traditional Airbnb Neighbourhoods = Avenidas Novas, Misericordia, Estrela, São Vicente e Santa Maria Maior\n",
    "# most of them available for more than 9 years"
   ]
  },
  {
   "cell_type": "code",
   "execution_count": null,
   "metadata": {},
   "outputs": [],
   "source": [
    "## which neighbourhoods have best ratings from costumers? \n",
    "\n",
    "neighbourhood_reviews = data.groupby(['neighbourhood'])['review_scores_rating'].describe()\n",
    "neighbourhood_reviews.sort_values(by=['mean'], ascending = False)\n",
    "\n",
    "#'Santa Clara' is the best rated neighbourhood \n",
    "# However, it has had only 17 reviews."
   ]
  },
  {
   "cell_type": "code",
   "execution_count": null,
   "metadata": {},
   "outputs": [],
   "source": [
    "#sort by number of reviewes - other insight on the most habitual touristic areas!!!!\n",
    "\n",
    "neighbourhood_reviews = data.groupby(['neighbourhood'])['review_scores_rating'].describe()\n",
    "neighbourhood_reviews.sort_values(by=['count'], ascending = False)\n",
    "\n",
    "#'Santa Maria Maior' is the most rated neighbourhood.\n",
    "# this area includes Baixa de Lisboa, Cais de Sodre and Terreiro do Paço (LET'S PUT PICTURE IN THE SLIDES) \n",
    "# As we all know these are super touristic areas, therefore confirming our hyphotesis that the most reviewed areas are also the ones tourists tend to choose\n",
    "# number of reviews is a good proxy for level of tourism \n",
    "# Maybe the backpacker would prefer to stay in a more hipster area? Example 'Beato', which also happens to be the cheapest!\n",
    "\n"
   ]
  },
  {
   "cell_type": "code",
   "execution_count": null,
   "metadata": {},
   "outputs": [],
   "source": [
    "# If i want to come to lisbon of a short weekend which neighbourhood would be easier? \n",
    "#(e.g. would have less min nights)\n",
    "\n",
    "neighbourhood_minimum_nights = data.groupby(['neighbourhood'])['minimum_nights'].describe()\n",
    "neighbourhood_minimum_nights.sort_values(by=['mean'], ascending = True)\n",
    "\n",
    "# Santa Maria Maior seems to be, on average, the neighbourhood with the lowest minimum nights requested\n",
    "# Once again confirming the hypothesis of an area more focused on tourism. in this case, short term visits\n",
    "\n",
    "#If I'm looking for a long term stay (e.g. 6 months) i'd have to look in areas like \n",
    "#'Misericrdia', 'Santo Antnio', 'Penha de França\" and 'Olivais'"
   ]
  },
  {
   "cell_type": "markdown",
   "metadata": {},
   "source": [
    "## Value for Money"
   ]
  },
  {
   "cell_type": "markdown",
   "metadata": {},
   "source": [
    "_\"A utility derived from every purchase or every sum of money spent.\"_\n",
    "\n",
    "\n",
    ".....How inspirational....."
   ]
  },
  {
   "cell_type": "code",
   "execution_count": null,
   "metadata": {},
   "outputs": [],
   "source": [
    "# value_money = review_scores_rating/price\n",
    "\n",
    "data.insert(5, \"value_money\", data[\"review_scores_rating\"]/data['price'], True)"
   ]
  },
  {
   "cell_type": "markdown",
   "metadata": {},
   "source": [
    "#### Value for money and Neighbourhood"
   ]
  },
  {
   "cell_type": "code",
   "execution_count": null,
   "metadata": {},
   "outputs": [],
   "source": [
    "neighbourhood_value_money = data.groupby(['neighbourhood'])['value_money'].describe()\n",
    "neighbourhood_value_money = neighbourhood_value_money.sort_values(by=['mean'], ascending=False)\n",
    "neighbourhood_value_money\n",
    "#Santa Clara seems to be the best value for money\n",
    "#Have you seen where Santa Clara is? It's basically Ameixoeira\n",
    "#I think its intesting to explore this. The best value for money neighbourhood is in an absolutly not touristic area"
   ]
  },
  {
   "cell_type": "code",
   "execution_count": null,
   "metadata": {},
   "outputs": [],
   "source": [
    "#Maybe we could explore the best value for money, among the most rated \n",
    "\n",
    "neighbourhood_value_money.loc[neighbourhood_value_money['count']> 200]\n",
    "\n",
    "#among the neighbourhoods with more than 200 reviews,'Areeiro'holds best value for money\n",
    "#Once again not a touristic area"
   ]
  },
  {
   "cell_type": "code",
   "execution_count": null,
   "metadata": {},
   "outputs": [],
   "source": [
    "#let's increase our threshold:\n",
    "\n",
    "neighbourhood_value_money.loc[neighbourhood_value_money['count']> 1000]\n",
    "\n",
    "#among the neighbourhoods with more than 1000 reviews,'Arroios'holds best value for money\n",
    "#This is a \"new\", \"hipster\", growing area in Lisbon incuding sections like Anjos, Martim Moniz!!"
   ]
  },
  {
   "cell_type": "markdown",
   "metadata": {},
   "source": [
    "#### Room Type  - Price"
   ]
  },
  {
   "cell_type": "code",
   "execution_count": null,
   "metadata": {},
   "outputs": [],
   "source": [
    "room_price = data.groupby(['room_type'])['price'].describe().reset_index()\n",
    "room_price.sort_values(by=['mean'])"
   ]
  },
  {
   "cell_type": "code",
   "execution_count": null,
   "metadata": {},
   "outputs": [],
   "source": [
    "# Group by neighbourhood and type of place\n",
    "neighbourhood_rooms = data.groupby(['room_type','neighbourhood'])['price'].agg(['mean', 'median'])\n",
    "\n",
    "neighbourhood_rooms.sort_values(by=['room_type','mean'], ascending= True)\n",
    "neighbourhood_rooms"
   ]
  },
  {
   "cell_type": "markdown",
   "metadata": {},
   "source": [
    "#### Room type - Value for Money"
   ]
  },
  {
   "cell_type": "code",
   "execution_count": null,
   "metadata": {
    "scrolled": true
   },
   "outputs": [],
   "source": [
    "room_price = data.groupby(['room_type'])['value_money'].describe().reset_index()\n",
    "room_price.sort_values(by=['mean'])"
   ]
  },
  {
   "cell_type": "code",
   "execution_count": null,
   "metadata": {},
   "outputs": [],
   "source": [
    "# Group by neighbourhood and type of place\n",
    "neighbourhood_rooms = data.groupby(['room_type','neighbourhood'])['value_money'].agg(['mean', 'median'])\n",
    "neighbourhood_rooms.sort_values(by=['room_type','mean'], ascending= True)"
   ]
  },
  {
   "cell_type": "markdown",
   "metadata": {},
   "source": [
    "# Filter for  Personas"
   ]
  },
  {
   "cell_type": "markdown",
   "metadata": {},
   "source": [
    "We believe that our three personas have different flexibility preferences when choosing their airbnb\n",
    "\n",
    "\n",
    "#Wich is the best neighbouhood for each persona:\n",
    "\n",
    "Business: high flex, intermediate comfort, intermediate price, regardless of the tourist location\n",
    "\n",
    "Backpecker: high flex, low comfy, low price, regardless of the tourist location\n",
    "\n",
    "Family: moderate flex, high comfy, intermediate to high price, high score rating, cares about the tourist location"
   ]
  },
  {
   "cell_type": "code",
   "execution_count": null,
   "metadata": {},
   "outputs": [],
   "source": [
    "#an overall check\n",
    "data.columns"
   ]
  },
  {
   "cell_type": "markdown",
   "metadata": {},
   "source": [
    "### Flexbility"
   ]
  },
  {
   "cell_type": "code",
   "execution_count": null,
   "metadata": {},
   "outputs": [],
   "source": [
    "# Select by cancellation policy\n",
    "flexible = data[data ['cancellation_policy'] == 'flexible']  # Business/ Backpacker\n",
    "moderate = data[data['cancellation_policy'] == 'moderate']  # Family\n",
    "len(flexible)\n",
    "len(moderate)\n",
    "# print(type(flexible))\n",
    "# flexible.head()"
   ]
  },
  {
   "cell_type": "code",
   "execution_count": null,
   "metadata": {},
   "outputs": [],
   "source": [
    "# Filter by instant bookable\n",
    "instant_bookable = flexible[flexible['instant_bookable'] == 't']  # Business/ Backpacker\n",
    "len(instant_bookable)"
   ]
  },
  {
   "cell_type": "code",
   "execution_count": null,
   "metadata": {},
   "outputs": [],
   "source": [
    "# Filter by require_picture\n",
    "no_picture = instant_bookable[instant_bookable['require_guest_profile_picture'] == 'f']   # Business/ Backpacker\n",
    "len(no_picture) #1688\n",
    "\n",
    "# Filter by require phone verification\n",
    "the_most_flexible = no_picture[no_picture['require_guest_phone_verification'] == 'f']   # Business/ Backpacker\n",
    "len(no_phone) #1681"
   ]
  },
  {
   "cell_type": "markdown",
   "metadata": {},
   "source": [
    "### Comfort"
   ]
  },
  {
   "cell_type": "code",
   "execution_count": null,
   "metadata": {},
   "outputs": [],
   "source": [
    "# Filter by room_type\n",
    "# Business\n",
    "business_room_type = the_most_flexible[the_most_flexible['room_type'] == 'Entire home/apt']\n",
    "len(business_room_type)\n",
    "\n",
    "# Back\n",
    "backpacker_room_type = the_most_flexible[the_most_flexible['room_type'] == 'Shared room']\n",
    "len(backpacker_room_type)\n",
    "\n",
    "# Family\n",
    "family_room_type = moderate[moderate['room_type'] == 'Entire home/apt']\n",
    "len(family_room_type)\n"
   ]
  },
  {
   "cell_type": "markdown",
   "metadata": {},
   "source": [
    "### Price/neighbourhood"
   ]
  },
  {
   "cell_type": "code",
   "execution_count": null,
   "metadata": {},
   "outputs": [],
   "source": [
    "# Business\n",
    "business_neighbourhoods = business_room_type.groupby(['neighbourhood'])['price'].agg(['mean', 'median']).reset_index()\n",
    "business_neighbourhoods = business_neighbourhoods.sort_values(by=['mean'], ascending= True)\n",
    "business_neighbourhoods.head()"
   ]
  },
  {
   "cell_type": "code",
   "execution_count": null,
   "metadata": {},
   "outputs": [],
   "source": [
    "# Backpacker\n",
    "backpacker_neighbourhoods = backpacker_room_type.groupby(['neighbourhood'])['price'].agg(['mean', 'median']).reset_index()\n",
    "backpacker_neighbourhoods = backpacker_neighbourhoods.sort_values(by=['mean'], ascending= True)\n",
    "backpacker_neighbourhoods.head()"
   ]
  },
  {
   "cell_type": "code",
   "execution_count": null,
   "metadata": {},
   "outputs": [],
   "source": [
    "# Family\n",
    "family_neighbourhoods = family_room_type.groupby(['neighbourhood'])['price'].agg(['mean', 'median']).reset_index()\n",
    "family_neighbourhoods = family_neighbourhoods.sort_values(by=['mean'], ascending= False)\n",
    "family_neighbourhoods.head()"
   ]
  },
  {
   "cell_type": "markdown",
   "metadata": {},
   "source": [
    "###  Value Money"
   ]
  },
  {
   "cell_type": "code",
   "execution_count": null,
   "metadata": {},
   "outputs": [],
   "source": [
    "# Business\n",
    "business_value_money = business_room_type.groupby(['neighbourhood'])['value_money'].agg(['mean', 'median']).reset_index()\n",
    "business_value_money = business_value_money.sort_values(by=['mean'], ascending = False)\n",
    "business_value_money.head()"
   ]
  },
  {
   "cell_type": "code",
   "execution_count": null,
   "metadata": {},
   "outputs": [],
   "source": [
    "# Backpacker\n",
    "backpacker_value_money = backpacker_room_type.groupby(['neighbourhood'])['value_money'].agg(['mean', 'median']).reset_index()\n",
    "backpacker_value_money = backpacker_value_money.sort_values(by=['mean'], ascending= False)\n",
    "backpacker_value_money.head()"
   ]
  },
  {
   "cell_type": "code",
   "execution_count": null,
   "metadata": {},
   "outputs": [],
   "source": [
    "# Family\n",
    "family_value_money = family_room_type.groupby(['neighbourhood'])['value_money'].agg(['mean', 'median']).reset_index()\n",
    "family_value_money = family_value_money.sort_values(by=['mean'], ascending= False)\n",
    "family_value_money.head()"
   ]
  },
  {
   "cell_type": "markdown",
   "metadata": {},
   "source": [
    "# Categorize neighbourhoods by price"
   ]
  },
  {
   "cell_type": "code",
   "execution_count": null,
   "metadata": {},
   "outputs": [],
   "source": [
    "\n",
    "# Create 5 bins and use the five labels above natural breaks\n",
    "\n",
    "bins_labels = ['Very Low', 'Low', 'Moderate', 'High', 'Very High']\n",
    "neighbourhoods_bins = pd.cut(data['price'],5, labels=bins_labels)\n",
    "# Number of obs in each category\n",
    "neighbourhoods_bins.value_counts()"
   ]
  },
  {
   "cell_type": "code",
   "execution_count": null,
   "metadata": {
    "scrolled": true
   },
   "outputs": [],
   "source": [
    "# Based in quartiles\n",
    "bins_labels = ['Very Low', 'Low', 'Moderate', 'High', 'Very High']\n",
    "neighbourhoods_bins = pd.qcut(data['price'],5, labels=bins_labels)\n",
    "# Number of obs in each category\n",
    "neighbourhoods_bins.value_counts()"
   ]
  },
  {
   "cell_type": "code",
   "execution_count": null,
   "metadata": {},
   "outputs": [],
   "source": [
    "data['Price Categories'] = pd.qcut(data['price'],5, labels=bins_labels)\n",
    "data.head()"
   ]
  },
  {
   "cell_type": "code",
   "execution_count": null,
   "metadata": {},
   "outputs": [],
   "source": []
  },
  {
   "cell_type": "code",
   "execution_count": null,
   "metadata": {},
   "outputs": [],
   "source": []
  }
 ],
 "metadata": {
  "kernelspec": {
   "display_name": "Python 3",
   "language": "python",
   "name": "python3"
  },
  "language_info": {
   "codemirror_mode": {
    "name": "ipython",
    "version": 3
   },
   "file_extension": ".py",
   "mimetype": "text/x-python",
   "name": "python",
   "nbconvert_exporter": "python",
   "pygments_lexer": "ipython3",
   "version": "3.7.3"
  }
 },
 "nbformat": 4,
 "nbformat_minor": 2
}
